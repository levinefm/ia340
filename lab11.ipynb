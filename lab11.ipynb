{
 "cells": [
  {
   "cell_type": "markdown",
   "metadata": {},
   "source": [
    "# Collect Tweets into MongoDB"
   ]
  },
  {
   "cell_type": "markdown",
   "metadata": {},
   "source": [
    "## Install Python libraries\n",
    "\n",
    "You may need to restart your Jupyter Notebook instance after installed those libraries."
   ]
  },
  {
   "cell_type": "code",
   "execution_count": 2,
   "metadata": {
    "scrolled": true
   },
   "outputs": [
    {
     "name": "stdout",
     "output_type": "stream",
     "text": [
      "Requirement already satisfied: pymongo in /home/ec2-user/anaconda3/envs/python3/lib/python3.6/site-packages (3.11.1)\n",
      "\u001b[33mWARNING: You are using pip version 20.0.2; however, version 20.2.4 is available.\n",
      "You should consider upgrading via the '/home/ec2-user/anaconda3/envs/python3/bin/python -m pip install --upgrade pip' command.\u001b[0m\n"
     ]
    }
   ],
   "source": [
    "!pip install pymongo"
   ]
  },
  {
   "cell_type": "code",
   "execution_count": 3,
   "metadata": {},
   "outputs": [
    {
     "name": "stdout",
     "output_type": "stream",
     "text": [
      "Requirement already satisfied: pymongo[srv] in /home/ec2-user/anaconda3/envs/python3/lib/python3.6/site-packages (3.11.1)\n",
      "Requirement already satisfied: dnspython<2.0.0,>=1.16.0; extra == \"srv\" in /home/ec2-user/anaconda3/envs/python3/lib/python3.6/site-packages (from pymongo[srv]) (1.16.0)\n",
      "\u001b[33mWARNING: You are using pip version 20.0.2; however, version 20.2.4 is available.\n",
      "You should consider upgrading via the '/home/ec2-user/anaconda3/envs/python3/bin/python -m pip install --upgrade pip' command.\u001b[0m\n"
     ]
    }
   ],
   "source": [
    "!pip install pymongo[srv]"
   ]
  },
  {
   "cell_type": "code",
   "execution_count": 4,
   "metadata": {},
   "outputs": [
    {
     "name": "stdout",
     "output_type": "stream",
     "text": [
      "Requirement already satisfied: dnspython in /home/ec2-user/anaconda3/envs/python3/lib/python3.6/site-packages (1.16.0)\n",
      "\u001b[33mWARNING: You are using pip version 20.0.2; however, version 20.2.4 is available.\n",
      "You should consider upgrading via the '/home/ec2-user/anaconda3/envs/python3/bin/python -m pip install --upgrade pip' command.\u001b[0m\n"
     ]
    }
   ],
   "source": [
    "!pip install dnspython"
   ]
  },
  {
   "cell_type": "code",
   "execution_count": 5,
   "metadata": {
    "scrolled": true
   },
   "outputs": [
    {
     "name": "stdout",
     "output_type": "stream",
     "text": [
      "Requirement already satisfied: tweepy in /home/ec2-user/anaconda3/envs/python3/lib/python3.6/site-packages (3.9.0)\n",
      "Requirement already satisfied: requests[socks]>=2.11.1 in /home/ec2-user/anaconda3/envs/python3/lib/python3.6/site-packages (from tweepy) (2.22.0)\n",
      "Requirement already satisfied: six>=1.10.0 in /home/ec2-user/anaconda3/envs/python3/lib/python3.6/site-packages (from tweepy) (1.14.0)\n",
      "Requirement already satisfied: requests-oauthlib>=0.7.0 in /home/ec2-user/anaconda3/envs/python3/lib/python3.6/site-packages (from tweepy) (1.3.0)\n",
      "Requirement already satisfied: chardet<3.1.0,>=3.0.2 in /home/ec2-user/anaconda3/envs/python3/lib/python3.6/site-packages (from requests[socks]>=2.11.1->tweepy) (3.0.4)\n",
      "Requirement already satisfied: urllib3!=1.25.0,!=1.25.1,<1.26,>=1.21.1 in /home/ec2-user/anaconda3/envs/python3/lib/python3.6/site-packages (from requests[socks]>=2.11.1->tweepy) (1.25.10)\n",
      "Requirement already satisfied: certifi>=2017.4.17 in /home/ec2-user/anaconda3/envs/python3/lib/python3.6/site-packages (from requests[socks]>=2.11.1->tweepy) (2020.6.20)\n",
      "Requirement already satisfied: idna<2.9,>=2.5 in /home/ec2-user/anaconda3/envs/python3/lib/python3.6/site-packages (from requests[socks]>=2.11.1->tweepy) (2.8)\n",
      "Requirement already satisfied: PySocks!=1.5.7,>=1.5.6; extra == \"socks\" in /home/ec2-user/anaconda3/envs/python3/lib/python3.6/site-packages (from requests[socks]>=2.11.1->tweepy) (1.7.1)\n",
      "Requirement already satisfied: oauthlib>=3.0.0 in /home/ec2-user/anaconda3/envs/python3/lib/python3.6/site-packages (from requests-oauthlib>=0.7.0->tweepy) (3.1.0)\n",
      "\u001b[33mWARNING: You are using pip version 20.0.2; however, version 20.2.4 is available.\n",
      "You should consider upgrading via the '/home/ec2-user/anaconda3/envs/python3/bin/python -m pip install --upgrade pip' command.\u001b[0m\n"
     ]
    }
   ],
   "source": [
    "!pip install tweepy"
   ]
  },
  {
   "cell_type": "code",
   "execution_count": 6,
   "metadata": {
    "scrolled": true
   },
   "outputs": [
    {
     "name": "stdout",
     "output_type": "stream",
     "text": [
      "Requirement already satisfied: twitter in /home/ec2-user/anaconda3/envs/python3/lib/python3.6/site-packages (1.18.0)\n",
      "\u001b[33mWARNING: You are using pip version 20.0.2; however, version 20.2.4 is available.\n",
      "You should consider upgrading via the '/home/ec2-user/anaconda3/envs/python3/bin/python -m pip install --upgrade pip' command.\u001b[0m\n"
     ]
    }
   ],
   "source": [
    "!pip install twitter"
   ]
  },
  {
   "cell_type": "markdown",
   "metadata": {},
   "source": [
    "## Import Python libraries"
   ]
  },
  {
   "cell_type": "code",
   "execution_count": 7,
   "metadata": {},
   "outputs": [],
   "source": [
    "import pymongo\n",
    "from pymongo import MongoClient\n",
    "import json\n",
    "import tweepy\n",
    "import twitter\n",
    "from pprint import pprint\n",
    "import configparser\n",
    "import pandas as pd"
   ]
  },
  {
   "cell_type": "markdown",
   "metadata": {},
   "source": [
    "##  Load the Authorization Info"
   ]
  },
  {
   "cell_type": "markdown",
   "metadata": {},
   "source": [
    "Save database connection info and API Keys in a config.ini file and use the configparse to load the authorization info. "
   ]
  },
  {
   "cell_type": "code",
   "execution_count": 8,
   "metadata": {},
   "outputs": [],
   "source": [
    "config = configparser.ConfigParser()\n",
    "config.read('config.ini')\n",
    "\n",
    "CONSUMER_KEY      = config['mytwitter']['api_key']\n",
    "CONSUMER_SECRET   = config['mytwitter']['api_secrete']\n",
    "OAUTH_TOKEN       = config['mytwitter']['access_token']\n",
    "OATH_TOKEN_SECRET = config['mytwitter']['access_secrete']\n",
    "\n",
    "mongod_connect = config['mymongo']['connection']"
   ]
  },
  {
   "cell_type": "markdown",
   "metadata": {},
   "source": [
    "## Connect to the MongoDB Cluster"
   ]
  },
  {
   "cell_type": "code",
   "execution_count": 9,
   "metadata": {},
   "outputs": [
    {
     "data": {
      "text/plain": [
       "'id_1'"
      ]
     },
     "execution_count": 9,
     "metadata": {},
     "output_type": "execute_result"
    }
   ],
   "source": [
    "client = MongoClient(mongod_connect)\n",
    "db = client.gp15 # use or create a database named demo\n",
    "tweet_collection = db.lab11 #use or create a collection named tweet_collection\n",
    "tweet_collection.create_index([(\"id\", pymongo.ASCENDING)],unique = True) # make sure the collected tweets are unique"
   ]
  },
  {
   "cell_type": "markdown",
   "metadata": {},
   "source": [
    "## Use the Streaming API to Collect Tweets"
   ]
  },
  {
   "cell_type": "markdown",
   "metadata": {},
   "source": [
    "Authorize the Stream API "
   ]
  },
  {
   "cell_type": "code",
   "execution_count": 10,
   "metadata": {},
   "outputs": [],
   "source": [
    "stream_auth = tweepy.OAuthHandler(CONSUMER_KEY, CONSUMER_SECRET)\n",
    "stream_auth.set_access_token(OAUTH_TOKEN, OATH_TOKEN_SECRET)\n",
    "\n",
    "strem_api = tweepy.API(stream_auth)"
   ]
  },
  {
   "cell_type": "markdown",
   "metadata": {},
   "source": [
    "Define the query for the Stream API"
   ]
  },
  {
   "cell_type": "code",
   "execution_count": 5,
   "metadata": {},
   "outputs": [],
   "source": [
    "track = ['election'] # define the keywords, tweets contain election\n",
    "\n",
    "locations = [-78.9326449,38.4150904,-78.8816972,38.4450731] #defin the location, in Harrisonburg, VA"
   ]
  },
  {
   "cell_type": "markdown",
   "metadata": {},
   "source": [
    "The collected tweets will contain 'election' <span style=\"color:red;font-weight:bold\"> OR </span> are located in Harrisonburg, VA"
   ]
  },
  {
   "cell_type": "code",
   "execution_count": null,
   "metadata": {
    "scrolled": true
   },
   "outputs": [],
   "source": [
    "class MyStreamListener(tweepy.StreamListener):\n",
    "    def on_status(self, status):\n",
    "        print (status.id_str)\n",
    "        try:\n",
    "            tweet_collection.insert_one(status._json)\n",
    "        except:\n",
    "            pass\n",
    "  \n",
    "    def on_error(self, status_code):\n",
    "        if status_code == 420:\n",
    "            #returning False in on_data disconnects the stream\n",
    "            return False\n",
    "myStreamListener = MyStreamListener()\n",
    "myStream = tweepy.Stream(auth = strem_api.auth, listener=myStreamListener)\n",
    "myStream.filter(track=track)#  (locations = locations)   #Use either track or locations"
   ]
  },
  {
   "cell_type": "markdown",
   "metadata": {},
   "source": [
    "## Use the REST API to Collect Tweets"
   ]
  },
  {
   "cell_type": "markdown",
   "metadata": {},
   "source": [
    "Authorize the REST API "
   ]
  },
  {
   "cell_type": "code",
   "execution_count": 11,
   "metadata": {},
   "outputs": [],
   "source": [
    "rest_auth = twitter.oauth.OAuth(OAUTH_TOKEN,OATH_TOKEN_SECRET,CONSUMER_KEY,CONSUMER_SECRET)\n",
    "rest_api = twitter.Twitter(auth=rest_auth)"
   ]
  },
  {
   "cell_type": "markdown",
   "metadata": {},
   "source": [
    "Define the query for the REST API"
   ]
  },
  {
   "cell_type": "code",
   "execution_count": 12,
   "metadata": {},
   "outputs": [],
   "source": [
    "count = 100 #number of returned tweets, default and max is 100\n",
    "geocode = \"37.5247764,-77.5633011,150mi\"  # defin the location, in Harrisonburg, VA\n",
    "q = \"covid19\"                               #define the keywords, tweets contain election"
   ]
  },
  {
   "cell_type": "markdown",
   "metadata": {},
   "source": [
    "The collected tweets will contain 'election' <span style=\"color:red;font-weight:bold\"> AND </span> are located in Harrisonburg, VA"
   ]
  },
  {
   "cell_type": "code",
   "execution_count": 13,
   "metadata": {},
   "outputs": [
    {
     "name": "stdout",
     "output_type": "stream",
     "text": [
      "'Sun Nov 22 21:41:44 +0000 2020'\n",
      "'Sun Nov 22 21:41:34 +0000 2020'\n",
      "'Sun Nov 22 21:41:15 +0000 2020'\n",
      "'Sun Nov 22 21:41:05 +0000 2020'\n",
      "'Sun Nov 22 21:40:48 +0000 2020'\n",
      "'Sun Nov 22 21:40:46 +0000 2020'\n",
      "'Sun Nov 22 21:40:43 +0000 2020'\n",
      "'Sun Nov 22 21:40:42 +0000 2020'\n",
      "'Sun Nov 22 21:40:29 +0000 2020'\n",
      "'Sun Nov 22 21:40:24 +0000 2020'\n",
      "'Sun Nov 22 21:40:12 +0000 2020'\n",
      "'Sun Nov 22 21:40:09 +0000 2020'\n",
      "'Sun Nov 22 21:40:05 +0000 2020'\n",
      "'Sun Nov 22 21:39:38 +0000 2020'\n",
      "'Sun Nov 22 21:39:23 +0000 2020'\n",
      "'Sun Nov 22 21:39:12 +0000 2020'\n",
      "'Sun Nov 22 21:39:07 +0000 2020'\n",
      "'Sun Nov 22 21:39:02 +0000 2020'\n",
      "'Sun Nov 22 21:38:05 +0000 2020'\n",
      "'Sun Nov 22 21:37:35 +0000 2020'\n",
      "'Sun Nov 22 21:37:16 +0000 2020'\n",
      "'Sun Nov 22 21:37:08 +0000 2020'\n",
      "'Sun Nov 22 21:36:55 +0000 2020'\n",
      "'Sun Nov 22 21:36:41 +0000 2020'\n"
     ]
    }
   ],
   "source": [
    "search_results = rest_api.search.tweets( count=count,q=q, geocode=geocode) #you can use both q and geocode\n",
    "statuses = search_results[\"statuses\"]\n",
    "since_id_new = statuses[-1]['id']\n",
    "for statuse in statuses:\n",
    "    try:\n",
    "        tweet_collection.insert_one(statuse)\n",
    "        pprint(statuse['created_at'])# print the date of the collected tweets\n",
    "    except:\n",
    "        pass"
   ]
  },
  {
   "cell_type": "markdown",
   "metadata": {},
   "source": [
    "Continue fetching early tweets with the same query. \n",
    "<p><span style=\"color:red;font-weight:bold\">YOU WILL REACH YOUR RATE LIMIT VERY FAST</span></p>"
   ]
  },
  {
   "cell_type": "code",
   "execution_count": 14,
   "metadata": {
    "scrolled": false
   },
   "outputs": [
    {
     "name": "stdout",
     "output_type": "stream",
     "text": [
      "'Sat Nov 21 13:19:32 +0000 2020'\n",
      "'Sat Nov 21 13:18:36 +0000 2020'\n",
      "'Sat Nov 21 13:18:23 +0000 2020'\n",
      "'Sat Nov 21 13:17:44 +0000 2020'\n",
      "'Sat Nov 21 13:17:34 +0000 2020'\n",
      "'Sat Nov 21 13:17:01 +0000 2020'\n",
      "'Sat Nov 21 13:16:54 +0000 2020'\n",
      "'Sat Nov 21 13:16:42 +0000 2020'\n",
      "'Sat Nov 21 13:16:10 +0000 2020'\n",
      "'Sat Nov 21 13:15:49 +0000 2020'\n",
      "'Sat Nov 21 13:15:04 +0000 2020'\n",
      "'Sat Nov 21 13:14:40 +0000 2020'\n",
      "'Sat Nov 21 13:13:35 +0000 2020'\n",
      "'Sat Nov 21 13:13:12 +0000 2020'\n",
      "'Sat Nov 21 13:12:59 +0000 2020'\n",
      "'Sat Nov 21 13:12:59 +0000 2020'\n",
      "'Sat Nov 21 13:12:30 +0000 2020'\n",
      "'Sat Nov 21 13:12:17 +0000 2020'\n",
      "'Sat Nov 21 13:11:40 +0000 2020'\n",
      "'Sat Nov 21 13:10:57 +0000 2020'\n",
      "'Sat Nov 21 13:10:45 +0000 2020'\n",
      "'Sat Nov 21 13:10:40 +0000 2020'\n",
      "'Sat Nov 21 13:10:21 +0000 2020'\n",
      "'Sat Nov 21 13:10:06 +0000 2020'\n",
      "'Sat Nov 21 13:10:04 +0000 2020'\n",
      "'Sat Nov 21 13:09:14 +0000 2020'\n",
      "'Sat Nov 21 13:08:28 +0000 2020'\n",
      "'Sat Nov 21 13:08:01 +0000 2020'\n",
      "'Sat Nov 21 13:07:56 +0000 2020'\n",
      "'Sat Nov 21 13:07:49 +0000 2020'\n",
      "'Sat Nov 21 13:07:48 +0000 2020'\n",
      "'Sat Nov 21 13:06:57 +0000 2020'\n",
      "'Sat Nov 21 13:06:45 +0000 2020'\n",
      "'Sat Nov 21 13:06:32 +0000 2020'\n",
      "'Sat Nov 21 13:05:33 +0000 2020'\n",
      "'Sat Nov 21 13:05:27 +0000 2020'\n",
      "'Sat Nov 21 13:03:14 +0000 2020'\n",
      "'Sat Nov 21 13:02:27 +0000 2020'\n",
      "'Sat Nov 21 13:02:08 +0000 2020'\n",
      "'Sat Nov 21 13:01:42 +0000 2020'\n",
      "'Sat Nov 21 13:01:40 +0000 2020'\n",
      "'Sat Nov 21 13:01:38 +0000 2020'\n",
      "'Sat Nov 21 13:00:57 +0000 2020'\n",
      "'Sat Nov 21 13:00:01 +0000 2020'\n",
      "'Sat Nov 21 12:59:36 +0000 2020'\n",
      "'Sat Nov 21 12:59:26 +0000 2020'\n",
      "'Sat Nov 21 12:59:10 +0000 2020'\n",
      "'Sat Nov 21 12:58:17 +0000 2020'\n",
      "'Sat Nov 21 12:57:19 +0000 2020'\n",
      "'Sat Nov 21 12:57:15 +0000 2020'\n",
      "'Sat Nov 21 12:56:48 +0000 2020'\n",
      "'Sat Nov 21 12:56:46 +0000 2020'\n",
      "'Sat Nov 21 12:56:42 +0000 2020'\n",
      "'Sat Nov 21 12:56:01 +0000 2020'\n",
      "'Sat Nov 21 12:55:03 +0000 2020'\n",
      "'Sat Nov 21 12:54:15 +0000 2020'\n",
      "'Sat Nov 21 12:53:54 +0000 2020'\n",
      "'Sat Nov 21 12:53:30 +0000 2020'\n",
      "'Sat Nov 21 12:51:13 +0000 2020'\n",
      "'Sat Nov 21 12:50:42 +0000 2020'\n",
      "'Sat Nov 21 12:49:28 +0000 2020'\n",
      "'Sat Nov 21 12:49:24 +0000 2020'\n",
      "'Sat Nov 21 12:48:50 +0000 2020'\n",
      "'Sat Nov 21 12:48:49 +0000 2020'\n",
      "'Sat Nov 21 12:48:34 +0000 2020'\n",
      "'Sat Nov 21 12:48:25 +0000 2020'\n",
      "'Sat Nov 21 12:48:04 +0000 2020'\n",
      "'Sat Nov 21 12:46:52 +0000 2020'\n",
      "'Sat Nov 21 12:46:31 +0000 2020'\n",
      "'Sat Nov 21 12:46:30 +0000 2020'\n",
      "'Sat Nov 21 12:45:52 +0000 2020'\n",
      "'Sat Nov 21 12:45:50 +0000 2020'\n",
      "'Sat Nov 21 12:45:35 +0000 2020'\n",
      "'Sat Nov 21 12:45:01 +0000 2020'\n",
      "'Sat Nov 21 12:44:19 +0000 2020'\n",
      "'Sat Nov 21 12:44:10 +0000 2020'\n",
      "'Sat Nov 21 12:43:58 +0000 2020'\n",
      "'Sat Nov 21 12:43:26 +0000 2020'\n",
      "'Sat Nov 21 12:42:06 +0000 2020'\n",
      "'Sat Nov 21 12:39:43 +0000 2020'\n",
      "'Sat Nov 21 12:38:49 +0000 2020'\n",
      "'Sat Nov 21 12:38:25 +0000 2020'\n",
      "'Sat Nov 21 12:37:44 +0000 2020'\n",
      "'Sat Nov 21 12:36:38 +0000 2020'\n",
      "'Sat Nov 21 12:36:02 +0000 2020'\n",
      "'Sat Nov 21 12:35:42 +0000 2020'\n",
      "'Sat Nov 21 12:34:49 +0000 2020'\n",
      "'Sat Nov 21 12:34:49 +0000 2020'\n",
      "'Sat Nov 21 12:34:08 +0000 2020'\n",
      "'Sat Nov 21 12:34:07 +0000 2020'\n",
      "'Sat Nov 21 12:33:50 +0000 2020'\n",
      "'Sat Nov 21 12:33:15 +0000 2020'\n",
      "'Sat Nov 21 12:32:01 +0000 2020'\n",
      "'Sat Nov 21 12:32:00 +0000 2020'\n",
      "'Sat Nov 21 12:31:47 +0000 2020'\n",
      "'Sat Nov 21 12:31:47 +0000 2020'\n",
      "'Sat Nov 21 12:31:26 +0000 2020'\n",
      "'Sat Nov 21 12:30:49 +0000 2020'\n",
      "'Sat Nov 21 12:30:16 +0000 2020'\n",
      "'Sat Nov 21 12:29:59 +0000 2020'\n",
      "'Sat Nov 21 12:29:56 +0000 2020'\n",
      "'Sat Nov 21 12:29:19 +0000 2020'\n",
      "'Sat Nov 21 12:29:17 +0000 2020'\n",
      "'Sat Nov 21 12:28:39 +0000 2020'\n",
      "'Sat Nov 21 12:28:29 +0000 2020'\n",
      "'Sat Nov 21 12:27:52 +0000 2020'\n",
      "'Sat Nov 21 12:27:40 +0000 2020'\n",
      "'Sat Nov 21 12:27:20 +0000 2020'\n",
      "'Sat Nov 21 12:26:45 +0000 2020'\n",
      "'Sat Nov 21 12:26:44 +0000 2020'\n",
      "'Sat Nov 21 12:26:40 +0000 2020'\n",
      "'Sat Nov 21 12:26:28 +0000 2020'\n",
      "'Sat Nov 21 12:26:26 +0000 2020'\n",
      "'Sat Nov 21 12:26:00 +0000 2020'\n",
      "'Sat Nov 21 12:25:23 +0000 2020'\n",
      "'Sat Nov 21 12:25:12 +0000 2020'\n",
      "'Sat Nov 21 12:24:55 +0000 2020'\n",
      "'Sat Nov 21 12:24:49 +0000 2020'\n",
      "'Sat Nov 21 12:24:01 +0000 2020'\n",
      "'Sat Nov 21 12:23:47 +0000 2020'\n",
      "'Sat Nov 21 12:22:27 +0000 2020'\n",
      "'Sat Nov 21 12:22:10 +0000 2020'\n",
      "'Sat Nov 21 12:21:38 +0000 2020'\n",
      "'Sat Nov 21 12:21:25 +0000 2020'\n",
      "'Sat Nov 21 12:21:14 +0000 2020'\n",
      "'Sat Nov 21 12:20:02 +0000 2020'\n",
      "'Sat Nov 21 12:19:49 +0000 2020'\n",
      "'Sat Nov 21 12:19:04 +0000 2020'\n",
      "'Sat Nov 21 12:18:11 +0000 2020'\n",
      "'Sat Nov 21 12:17:54 +0000 2020'\n",
      "'Sat Nov 21 12:17:40 +0000 2020'\n",
      "'Sat Nov 21 12:17:12 +0000 2020'\n",
      "'Sat Nov 21 12:17:01 +0000 2020'\n",
      "'Sat Nov 21 12:16:19 +0000 2020'\n",
      "'Sat Nov 21 12:15:58 +0000 2020'\n",
      "'Sat Nov 21 12:15:36 +0000 2020'\n",
      "'Sat Nov 21 12:15:08 +0000 2020'\n",
      "'Sat Nov 21 12:13:26 +0000 2020'\n",
      "'Sat Nov 21 12:13:14 +0000 2020'\n",
      "'Sat Nov 21 12:12:15 +0000 2020'\n",
      "'Sat Nov 21 12:11:28 +0000 2020'\n",
      "'Sat Nov 21 12:11:20 +0000 2020'\n",
      "'Sat Nov 21 12:11:18 +0000 2020'\n",
      "'Sat Nov 21 12:10:43 +0000 2020'\n",
      "'Sat Nov 21 12:09:04 +0000 2020'\n",
      "'Sat Nov 21 12:08:04 +0000 2020'\n",
      "'Sat Nov 21 12:07:43 +0000 2020'\n",
      "'Sat Nov 21 12:07:17 +0000 2020'\n",
      "'Sat Nov 21 12:06:23 +0000 2020'\n",
      "'Sat Nov 21 12:06:15 +0000 2020'\n",
      "'Sat Nov 21 12:05:41 +0000 2020'\n",
      "'Sat Nov 21 12:05:26 +0000 2020'\n",
      "'Sat Nov 21 12:04:50 +0000 2020'\n",
      "'Sat Nov 21 12:04:33 +0000 2020'\n",
      "'Sat Nov 21 12:03:49 +0000 2020'\n",
      "'Sat Nov 21 12:03:42 +0000 2020'\n",
      "'Sat Nov 21 12:02:37 +0000 2020'\n",
      "'Sat Nov 21 12:02:04 +0000 2020'\n",
      "'Sat Nov 21 12:01:25 +0000 2020'\n",
      "'Sat Nov 21 12:00:19 +0000 2020'\n",
      "'Sat Nov 21 12:00:09 +0000 2020'\n",
      "'Sat Nov 21 12:00:06 +0000 2020'\n",
      "'Sat Nov 21 12:00:00 +0000 2020'\n",
      "'Sat Nov 21 11:59:57 +0000 2020'\n",
      "'Sat Nov 21 11:59:31 +0000 2020'\n",
      "'Sat Nov 21 11:59:28 +0000 2020'\n",
      "'Sat Nov 21 11:58:22 +0000 2020'\n",
      "'Sat Nov 21 11:58:00 +0000 2020'\n",
      "'Sat Nov 21 11:57:59 +0000 2020'\n",
      "'Sat Nov 21 11:57:55 +0000 2020'\n",
      "'Sat Nov 21 11:57:53 +0000 2020'\n",
      "'Sat Nov 21 11:57:53 +0000 2020'\n",
      "'Sat Nov 21 11:57:20 +0000 2020'\n",
      "'Sat Nov 21 11:57:18 +0000 2020'\n",
      "'Sat Nov 21 11:57:03 +0000 2020'\n",
      "'Sat Nov 21 11:56:50 +0000 2020'\n",
      "'Sat Nov 21 11:56:24 +0000 2020'\n",
      "'Sat Nov 21 11:56:14 +0000 2020'\n",
      "'Sat Nov 21 11:56:11 +0000 2020'\n",
      "'Sat Nov 21 11:56:08 +0000 2020'\n",
      "'Sat Nov 21 11:55:41 +0000 2020'\n",
      "'Sat Nov 21 11:53:59 +0000 2020'\n",
      "'Sat Nov 21 11:53:50 +0000 2020'\n",
      "'Sat Nov 21 11:53:46 +0000 2020'\n",
      "'Sat Nov 21 11:52:31 +0000 2020'\n",
      "'Sat Nov 21 11:51:31 +0000 2020'\n",
      "'Sat Nov 21 11:51:06 +0000 2020'\n",
      "'Sat Nov 21 11:50:34 +0000 2020'\n",
      "'Sat Nov 21 11:50:24 +0000 2020'\n",
      "'Sat Nov 21 11:49:40 +0000 2020'\n",
      "'Sat Nov 21 11:48:38 +0000 2020'\n",
      "'Sat Nov 21 11:47:40 +0000 2020'\n",
      "'Sat Nov 21 11:47:07 +0000 2020'\n",
      "'Sat Nov 21 11:46:28 +0000 2020'\n",
      "'Sat Nov 21 11:46:22 +0000 2020'\n",
      "'Sat Nov 21 11:46:04 +0000 2020'\n",
      "'Sat Nov 21 11:46:00 +0000 2020'\n",
      "'Sat Nov 21 11:45:23 +0000 2020'\n",
      "'Sat Nov 21 11:44:30 +0000 2020'\n",
      "'Sat Nov 21 11:42:54 +0000 2020'\n",
      "'Sat Nov 21 11:42:36 +0000 2020'\n",
      "'Sat Nov 21 11:41:04 +0000 2020'\n",
      "'Sat Nov 21 11:40:58 +0000 2020'\n",
      "'Sat Nov 21 11:40:46 +0000 2020'\n",
      "'Sat Nov 21 11:40:16 +0000 2020'\n",
      "'Sat Nov 21 11:40:02 +0000 2020'\n",
      "'Sat Nov 21 11:39:52 +0000 2020'\n",
      "'Sat Nov 21 11:37:51 +0000 2020'\n",
      "'Sat Nov 21 11:37:07 +0000 2020'\n",
      "'Sat Nov 21 11:37:01 +0000 2020'\n",
      "'Sat Nov 21 11:36:27 +0000 2020'\n",
      "'Sat Nov 21 11:35:53 +0000 2020'\n",
      "'Sat Nov 21 11:35:21 +0000 2020'\n",
      "'Sat Nov 21 11:34:41 +0000 2020'\n",
      "'Sat Nov 21 11:34:13 +0000 2020'\n",
      "'Sat Nov 21 11:32:15 +0000 2020'\n",
      "'Sat Nov 21 11:32:08 +0000 2020'\n",
      "'Sat Nov 21 11:31:59 +0000 2020'\n",
      "'Sat Nov 21 11:31:28 +0000 2020'\n",
      "'Sat Nov 21 11:31:01 +0000 2020'\n",
      "'Sat Nov 21 11:30:57 +0000 2020'\n",
      "'Sat Nov 21 11:30:53 +0000 2020'\n",
      "'Sat Nov 21 11:30:37 +0000 2020'\n",
      "'Sat Nov 21 11:30:35 +0000 2020'\n",
      "'Sat Nov 21 11:29:43 +0000 2020'\n",
      "'Sat Nov 21 11:29:42 +0000 2020'\n",
      "'Sat Nov 21 11:27:55 +0000 2020'\n",
      "'Sat Nov 21 11:27:53 +0000 2020'\n",
      "'Sat Nov 21 11:27:25 +0000 2020'\n",
      "'Sat Nov 21 11:26:31 +0000 2020'\n",
      "'Sat Nov 21 11:25:02 +0000 2020'\n",
      "'Sat Nov 21 11:23:50 +0000 2020'\n",
      "'Sat Nov 21 11:23:27 +0000 2020'\n",
      "'Sat Nov 21 11:23:27 +0000 2020'\n",
      "'Sat Nov 21 11:22:52 +0000 2020'\n",
      "'Sat Nov 21 11:22:17 +0000 2020'\n",
      "'Sat Nov 21 11:22:07 +0000 2020'\n",
      "'Sat Nov 21 11:21:13 +0000 2020'\n",
      "'Sat Nov 21 11:20:36 +0000 2020'\n",
      "'Sat Nov 21 11:19:10 +0000 2020'\n",
      "'Sat Nov 21 11:17:52 +0000 2020'\n",
      "'Sat Nov 21 11:17:51 +0000 2020'\n",
      "'Sat Nov 21 11:17:48 +0000 2020'\n",
      "'Sat Nov 21 11:17:20 +0000 2020'\n",
      "'Sat Nov 21 11:17:20 +0000 2020'\n",
      "'Sat Nov 21 11:17:10 +0000 2020'\n",
      "'Sat Nov 21 11:16:20 +0000 2020'\n",
      "'Sat Nov 21 11:15:40 +0000 2020'\n",
      "'Sat Nov 21 11:15:07 +0000 2020'\n",
      "'Sat Nov 21 11:14:52 +0000 2020'\n",
      "'Sat Nov 21 11:14:08 +0000 2020'\n",
      "'Sat Nov 21 11:13:56 +0000 2020'\n",
      "'Sat Nov 21 11:13:50 +0000 2020'\n",
      "'Sat Nov 21 11:13:00 +0000 2020'\n",
      "'Sat Nov 21 11:12:42 +0000 2020'\n",
      "'Sat Nov 21 11:12:28 +0000 2020'\n",
      "'Sat Nov 21 11:12:18 +0000 2020'\n",
      "'Sat Nov 21 11:12:14 +0000 2020'\n",
      "'Sat Nov 21 11:12:09 +0000 2020'\n",
      "'Sat Nov 21 11:11:18 +0000 2020'\n",
      "'Sat Nov 21 11:10:04 +0000 2020'\n",
      "'Sat Nov 21 11:06:46 +0000 2020'\n",
      "'Sat Nov 21 11:05:19 +0000 2020'\n",
      "'Sat Nov 21 11:03:15 +0000 2020'\n",
      "'Sat Nov 21 11:01:52 +0000 2020'\n",
      "'Sat Nov 21 11:01:12 +0000 2020'\n",
      "'Sat Nov 21 11:01:03 +0000 2020'\n",
      "'Sat Nov 21 11:00:58 +0000 2020'\n",
      "'Sat Nov 21 11:00:54 +0000 2020'\n",
      "'Sat Nov 21 11:00:42 +0000 2020'\n",
      "'Sat Nov 21 11:00:15 +0000 2020'\n",
      "'Sat Nov 21 10:59:58 +0000 2020'\n",
      "'Sat Nov 21 10:59:22 +0000 2020'\n",
      "'Sat Nov 21 10:59:15 +0000 2020'\n",
      "'Sat Nov 21 10:58:50 +0000 2020'\n",
      "'Sat Nov 21 10:58:35 +0000 2020'\n",
      "'Sat Nov 21 10:57:20 +0000 2020'\n",
      "'Sat Nov 21 10:56:48 +0000 2020'\n",
      "'Sat Nov 21 10:56:36 +0000 2020'\n",
      "'Sat Nov 21 10:54:02 +0000 2020'\n",
      "'Sat Nov 21 10:53:55 +0000 2020'\n",
      "'Sat Nov 21 10:52:11 +0000 2020'\n",
      "'Sat Nov 21 10:51:50 +0000 2020'\n",
      "'Sat Nov 21 10:50:33 +0000 2020'\n",
      "'Sat Nov 21 10:50:10 +0000 2020'\n"
     ]
    },
    {
     "name": "stdout",
     "output_type": "stream",
     "text": [
      "'Sat Nov 21 10:49:53 +0000 2020'\n",
      "'Sat Nov 21 10:49:29 +0000 2020'\n",
      "'Sat Nov 21 10:49:27 +0000 2020'\n",
      "'Sat Nov 21 10:47:33 +0000 2020'\n",
      "'Sat Nov 21 10:47:22 +0000 2020'\n",
      "'Sat Nov 21 10:47:12 +0000 2020'\n",
      "'Sat Nov 21 10:45:58 +0000 2020'\n",
      "'Sat Nov 21 10:45:49 +0000 2020'\n",
      "'Sat Nov 21 10:45:32 +0000 2020'\n",
      "'Sat Nov 21 10:45:18 +0000 2020'\n",
      "'Sat Nov 21 10:45:12 +0000 2020'\n",
      "'Sat Nov 21 10:44:35 +0000 2020'\n",
      "'Sat Nov 21 10:44:34 +0000 2020'\n",
      "'Sat Nov 21 10:44:20 +0000 2020'\n",
      "'Sat Nov 21 10:44:05 +0000 2020'\n",
      "'Sat Nov 21 10:43:36 +0000 2020'\n",
      "'Sat Nov 21 10:43:18 +0000 2020'\n",
      "'Sat Nov 21 10:42:37 +0000 2020'\n",
      "'Sat Nov 21 10:42:10 +0000 2020'\n"
     ]
    },
    {
     "ename": "KeyboardInterrupt",
     "evalue": "",
     "output_type": "error",
     "traceback": [
      "\u001b[0;31m---------------------------------------------------------------------------\u001b[0m",
      "\u001b[0;31mKeyboardInterrupt\u001b[0m                         Traceback (most recent call last)",
      "\u001b[0;32m<ipython-input-14-0ecae8b529d2>\u001b[0m in \u001b[0;36m<module>\u001b[0;34m\u001b[0m\n\u001b[1;32m      3\u001b[0m     \u001b[0msince_id_old\u001b[0m \u001b[0;34m=\u001b[0m \u001b[0msince_id_new\u001b[0m\u001b[0;34m\u001b[0m\u001b[0;34m\u001b[0m\u001b[0m\n\u001b[1;32m      4\u001b[0m     search_results = rest_api.search.tweets( count=count,q=q,\n\u001b[0;32m----> 5\u001b[0;31m                         geocode=geocode, max_id= since_id_new)\n\u001b[0m\u001b[1;32m      6\u001b[0m     \u001b[0mstatuses\u001b[0m \u001b[0;34m=\u001b[0m \u001b[0msearch_results\u001b[0m\u001b[0;34m[\u001b[0m\u001b[0;34m\"statuses\"\u001b[0m\u001b[0;34m]\u001b[0m\u001b[0;34m\u001b[0m\u001b[0;34m\u001b[0m\u001b[0m\n\u001b[1;32m      7\u001b[0m     \u001b[0msince_id_new\u001b[0m \u001b[0;34m=\u001b[0m \u001b[0mstatuses\u001b[0m\u001b[0;34m[\u001b[0m\u001b[0;34m-\u001b[0m\u001b[0;36m1\u001b[0m\u001b[0;34m]\u001b[0m\u001b[0;34m[\u001b[0m\u001b[0;34m'id'\u001b[0m\u001b[0;34m]\u001b[0m\u001b[0;34m\u001b[0m\u001b[0;34m\u001b[0m\u001b[0m\n",
      "\u001b[0;32m~/anaconda3/envs/python3/lib/python3.6/site-packages/twitter/api.py\u001b[0m in \u001b[0;36m__call__\u001b[0;34m(self, **kwargs)\u001b[0m\n\u001b[1;32m    332\u001b[0m             \u001b[0;32mreturn\u001b[0m \u001b[0mself\u001b[0m\u001b[0;34m.\u001b[0m\u001b[0m_handle_response_with_retry\u001b[0m\u001b[0;34m(\u001b[0m\u001b[0mreq\u001b[0m\u001b[0;34m,\u001b[0m \u001b[0muri\u001b[0m\u001b[0;34m,\u001b[0m \u001b[0marg_data\u001b[0m\u001b[0;34m,\u001b[0m \u001b[0m_timeout\u001b[0m\u001b[0;34m)\u001b[0m\u001b[0;34m\u001b[0m\u001b[0;34m\u001b[0m\u001b[0m\n\u001b[1;32m    333\u001b[0m         \u001b[0;32melse\u001b[0m\u001b[0;34m:\u001b[0m\u001b[0;34m\u001b[0m\u001b[0;34m\u001b[0m\u001b[0m\n\u001b[0;32m--> 334\u001b[0;31m             \u001b[0;32mreturn\u001b[0m \u001b[0mself\u001b[0m\u001b[0;34m.\u001b[0m\u001b[0m_handle_response\u001b[0m\u001b[0;34m(\u001b[0m\u001b[0mreq\u001b[0m\u001b[0;34m,\u001b[0m \u001b[0muri\u001b[0m\u001b[0;34m,\u001b[0m \u001b[0marg_data\u001b[0m\u001b[0;34m,\u001b[0m \u001b[0m_timeout\u001b[0m\u001b[0;34m)\u001b[0m\u001b[0;34m\u001b[0m\u001b[0;34m\u001b[0m\u001b[0m\n\u001b[0m\u001b[1;32m    335\u001b[0m \u001b[0;34m\u001b[0m\u001b[0m\n\u001b[1;32m    336\u001b[0m     \u001b[0;32mdef\u001b[0m \u001b[0m_handle_response\u001b[0m\u001b[0;34m(\u001b[0m\u001b[0mself\u001b[0m\u001b[0;34m,\u001b[0m \u001b[0mreq\u001b[0m\u001b[0;34m,\u001b[0m \u001b[0muri\u001b[0m\u001b[0;34m,\u001b[0m \u001b[0marg_data\u001b[0m\u001b[0;34m,\u001b[0m \u001b[0m_timeout\u001b[0m\u001b[0;34m=\u001b[0m\u001b[0;32mNone\u001b[0m\u001b[0;34m)\u001b[0m\u001b[0;34m:\u001b[0m\u001b[0;34m\u001b[0m\u001b[0;34m\u001b[0m\u001b[0m\n",
      "\u001b[0;32m~/anaconda3/envs/python3/lib/python3.6/site-packages/twitter/api.py\u001b[0m in \u001b[0;36m_handle_response\u001b[0;34m(self, req, uri, arg_data, _timeout)\u001b[0m\n\u001b[1;32m    339\u001b[0m             \u001b[0mkwargs\u001b[0m\u001b[0;34m[\u001b[0m\u001b[0;34m'timeout'\u001b[0m\u001b[0;34m]\u001b[0m \u001b[0;34m=\u001b[0m \u001b[0m_timeout\u001b[0m\u001b[0;34m\u001b[0m\u001b[0;34m\u001b[0m\u001b[0m\n\u001b[1;32m    340\u001b[0m         \u001b[0;32mtry\u001b[0m\u001b[0;34m:\u001b[0m\u001b[0;34m\u001b[0m\u001b[0;34m\u001b[0m\u001b[0m\n\u001b[0;32m--> 341\u001b[0;31m             \u001b[0mhandle\u001b[0m \u001b[0;34m=\u001b[0m \u001b[0murllib_request\u001b[0m\u001b[0;34m.\u001b[0m\u001b[0murlopen\u001b[0m\u001b[0;34m(\u001b[0m\u001b[0mreq\u001b[0m\u001b[0;34m,\u001b[0m \u001b[0;34m**\u001b[0m\u001b[0mkwargs\u001b[0m\u001b[0;34m)\u001b[0m\u001b[0;34m\u001b[0m\u001b[0;34m\u001b[0m\u001b[0m\n\u001b[0m\u001b[1;32m    342\u001b[0m             \u001b[0;32mif\u001b[0m \u001b[0mhandle\u001b[0m\u001b[0;34m.\u001b[0m\u001b[0mheaders\u001b[0m\u001b[0;34m[\u001b[0m\u001b[0;34m'Content-Type'\u001b[0m\u001b[0;34m]\u001b[0m \u001b[0;32min\u001b[0m \u001b[0;34m[\u001b[0m\u001b[0;34m'image/jpeg'\u001b[0m\u001b[0;34m,\u001b[0m \u001b[0;34m'image/png'\u001b[0m\u001b[0;34m]\u001b[0m\u001b[0;34m:\u001b[0m\u001b[0;34m\u001b[0m\u001b[0;34m\u001b[0m\u001b[0m\n\u001b[1;32m    343\u001b[0m                 \u001b[0;32mreturn\u001b[0m \u001b[0mhandle\u001b[0m\u001b[0;34m\u001b[0m\u001b[0;34m\u001b[0m\u001b[0m\n",
      "\u001b[0;32m~/anaconda3/envs/python3/lib/python3.6/urllib/request.py\u001b[0m in \u001b[0;36murlopen\u001b[0;34m(url, data, timeout, cafile, capath, cadefault, context)\u001b[0m\n\u001b[1;32m    221\u001b[0m     \u001b[0;32melse\u001b[0m\u001b[0;34m:\u001b[0m\u001b[0;34m\u001b[0m\u001b[0;34m\u001b[0m\u001b[0m\n\u001b[1;32m    222\u001b[0m         \u001b[0mopener\u001b[0m \u001b[0;34m=\u001b[0m \u001b[0m_opener\u001b[0m\u001b[0;34m\u001b[0m\u001b[0;34m\u001b[0m\u001b[0m\n\u001b[0;32m--> 223\u001b[0;31m     \u001b[0;32mreturn\u001b[0m \u001b[0mopener\u001b[0m\u001b[0;34m.\u001b[0m\u001b[0mopen\u001b[0m\u001b[0;34m(\u001b[0m\u001b[0murl\u001b[0m\u001b[0;34m,\u001b[0m \u001b[0mdata\u001b[0m\u001b[0;34m,\u001b[0m \u001b[0mtimeout\u001b[0m\u001b[0;34m)\u001b[0m\u001b[0;34m\u001b[0m\u001b[0;34m\u001b[0m\u001b[0m\n\u001b[0m\u001b[1;32m    224\u001b[0m \u001b[0;34m\u001b[0m\u001b[0m\n\u001b[1;32m    225\u001b[0m \u001b[0;32mdef\u001b[0m \u001b[0minstall_opener\u001b[0m\u001b[0;34m(\u001b[0m\u001b[0mopener\u001b[0m\u001b[0;34m)\u001b[0m\u001b[0;34m:\u001b[0m\u001b[0;34m\u001b[0m\u001b[0;34m\u001b[0m\u001b[0m\n",
      "\u001b[0;32m~/anaconda3/envs/python3/lib/python3.6/urllib/request.py\u001b[0m in \u001b[0;36mopen\u001b[0;34m(self, fullurl, data, timeout)\u001b[0m\n\u001b[1;32m    524\u001b[0m             \u001b[0mreq\u001b[0m \u001b[0;34m=\u001b[0m \u001b[0mmeth\u001b[0m\u001b[0;34m(\u001b[0m\u001b[0mreq\u001b[0m\u001b[0;34m)\u001b[0m\u001b[0;34m\u001b[0m\u001b[0;34m\u001b[0m\u001b[0m\n\u001b[1;32m    525\u001b[0m \u001b[0;34m\u001b[0m\u001b[0m\n\u001b[0;32m--> 526\u001b[0;31m         \u001b[0mresponse\u001b[0m \u001b[0;34m=\u001b[0m \u001b[0mself\u001b[0m\u001b[0;34m.\u001b[0m\u001b[0m_open\u001b[0m\u001b[0;34m(\u001b[0m\u001b[0mreq\u001b[0m\u001b[0;34m,\u001b[0m \u001b[0mdata\u001b[0m\u001b[0;34m)\u001b[0m\u001b[0;34m\u001b[0m\u001b[0;34m\u001b[0m\u001b[0m\n\u001b[0m\u001b[1;32m    527\u001b[0m \u001b[0;34m\u001b[0m\u001b[0m\n\u001b[1;32m    528\u001b[0m         \u001b[0;31m# post-process response\u001b[0m\u001b[0;34m\u001b[0m\u001b[0;34m\u001b[0m\u001b[0;34m\u001b[0m\u001b[0m\n",
      "\u001b[0;32m~/anaconda3/envs/python3/lib/python3.6/urllib/request.py\u001b[0m in \u001b[0;36m_open\u001b[0;34m(self, req, data)\u001b[0m\n\u001b[1;32m    542\u001b[0m         \u001b[0mprotocol\u001b[0m \u001b[0;34m=\u001b[0m \u001b[0mreq\u001b[0m\u001b[0;34m.\u001b[0m\u001b[0mtype\u001b[0m\u001b[0;34m\u001b[0m\u001b[0;34m\u001b[0m\u001b[0m\n\u001b[1;32m    543\u001b[0m         result = self._call_chain(self.handle_open, protocol, protocol +\n\u001b[0;32m--> 544\u001b[0;31m                                   '_open', req)\n\u001b[0m\u001b[1;32m    545\u001b[0m         \u001b[0;32mif\u001b[0m \u001b[0mresult\u001b[0m\u001b[0;34m:\u001b[0m\u001b[0;34m\u001b[0m\u001b[0;34m\u001b[0m\u001b[0m\n\u001b[1;32m    546\u001b[0m             \u001b[0;32mreturn\u001b[0m \u001b[0mresult\u001b[0m\u001b[0;34m\u001b[0m\u001b[0;34m\u001b[0m\u001b[0m\n",
      "\u001b[0;32m~/anaconda3/envs/python3/lib/python3.6/urllib/request.py\u001b[0m in \u001b[0;36m_call_chain\u001b[0;34m(self, chain, kind, meth_name, *args)\u001b[0m\n\u001b[1;32m    502\u001b[0m         \u001b[0;32mfor\u001b[0m \u001b[0mhandler\u001b[0m \u001b[0;32min\u001b[0m \u001b[0mhandlers\u001b[0m\u001b[0;34m:\u001b[0m\u001b[0;34m\u001b[0m\u001b[0;34m\u001b[0m\u001b[0m\n\u001b[1;32m    503\u001b[0m             \u001b[0mfunc\u001b[0m \u001b[0;34m=\u001b[0m \u001b[0mgetattr\u001b[0m\u001b[0;34m(\u001b[0m\u001b[0mhandler\u001b[0m\u001b[0;34m,\u001b[0m \u001b[0mmeth_name\u001b[0m\u001b[0;34m)\u001b[0m\u001b[0;34m\u001b[0m\u001b[0;34m\u001b[0m\u001b[0m\n\u001b[0;32m--> 504\u001b[0;31m             \u001b[0mresult\u001b[0m \u001b[0;34m=\u001b[0m \u001b[0mfunc\u001b[0m\u001b[0;34m(\u001b[0m\u001b[0;34m*\u001b[0m\u001b[0margs\u001b[0m\u001b[0;34m)\u001b[0m\u001b[0;34m\u001b[0m\u001b[0;34m\u001b[0m\u001b[0m\n\u001b[0m\u001b[1;32m    505\u001b[0m             \u001b[0;32mif\u001b[0m \u001b[0mresult\u001b[0m \u001b[0;32mis\u001b[0m \u001b[0;32mnot\u001b[0m \u001b[0;32mNone\u001b[0m\u001b[0;34m:\u001b[0m\u001b[0;34m\u001b[0m\u001b[0;34m\u001b[0m\u001b[0m\n\u001b[1;32m    506\u001b[0m                 \u001b[0;32mreturn\u001b[0m \u001b[0mresult\u001b[0m\u001b[0;34m\u001b[0m\u001b[0;34m\u001b[0m\u001b[0m\n",
      "\u001b[0;32m~/anaconda3/envs/python3/lib/python3.6/urllib/request.py\u001b[0m in \u001b[0;36mhttps_open\u001b[0;34m(self, req)\u001b[0m\n\u001b[1;32m   1359\u001b[0m         \u001b[0;32mdef\u001b[0m \u001b[0mhttps_open\u001b[0m\u001b[0;34m(\u001b[0m\u001b[0mself\u001b[0m\u001b[0;34m,\u001b[0m \u001b[0mreq\u001b[0m\u001b[0;34m)\u001b[0m\u001b[0;34m:\u001b[0m\u001b[0;34m\u001b[0m\u001b[0;34m\u001b[0m\u001b[0m\n\u001b[1;32m   1360\u001b[0m             return self.do_open(http.client.HTTPSConnection, req,\n\u001b[0;32m-> 1361\u001b[0;31m                 context=self._context, check_hostname=self._check_hostname)\n\u001b[0m\u001b[1;32m   1362\u001b[0m \u001b[0;34m\u001b[0m\u001b[0m\n\u001b[1;32m   1363\u001b[0m         \u001b[0mhttps_request\u001b[0m \u001b[0;34m=\u001b[0m \u001b[0mAbstractHTTPHandler\u001b[0m\u001b[0;34m.\u001b[0m\u001b[0mdo_request_\u001b[0m\u001b[0;34m\u001b[0m\u001b[0;34m\u001b[0m\u001b[0m\n",
      "\u001b[0;32m~/anaconda3/envs/python3/lib/python3.6/urllib/request.py\u001b[0m in \u001b[0;36mdo_open\u001b[0;34m(self, http_class, req, **http_conn_args)\u001b[0m\n\u001b[1;32m   1319\u001b[0m             \u001b[0;32mexcept\u001b[0m \u001b[0mOSError\u001b[0m \u001b[0;32mas\u001b[0m \u001b[0merr\u001b[0m\u001b[0;34m:\u001b[0m \u001b[0;31m# timeout error\u001b[0m\u001b[0;34m\u001b[0m\u001b[0;34m\u001b[0m\u001b[0m\n\u001b[1;32m   1320\u001b[0m                 \u001b[0;32mraise\u001b[0m \u001b[0mURLError\u001b[0m\u001b[0;34m(\u001b[0m\u001b[0merr\u001b[0m\u001b[0;34m)\u001b[0m\u001b[0;34m\u001b[0m\u001b[0;34m\u001b[0m\u001b[0m\n\u001b[0;32m-> 1321\u001b[0;31m             \u001b[0mr\u001b[0m \u001b[0;34m=\u001b[0m \u001b[0mh\u001b[0m\u001b[0;34m.\u001b[0m\u001b[0mgetresponse\u001b[0m\u001b[0;34m(\u001b[0m\u001b[0;34m)\u001b[0m\u001b[0;34m\u001b[0m\u001b[0;34m\u001b[0m\u001b[0m\n\u001b[0m\u001b[1;32m   1322\u001b[0m         \u001b[0;32mexcept\u001b[0m\u001b[0;34m:\u001b[0m\u001b[0;34m\u001b[0m\u001b[0;34m\u001b[0m\u001b[0m\n\u001b[1;32m   1323\u001b[0m             \u001b[0mh\u001b[0m\u001b[0;34m.\u001b[0m\u001b[0mclose\u001b[0m\u001b[0;34m(\u001b[0m\u001b[0;34m)\u001b[0m\u001b[0;34m\u001b[0m\u001b[0;34m\u001b[0m\u001b[0m\n",
      "\u001b[0;32m~/anaconda3/envs/python3/lib/python3.6/http/client.py\u001b[0m in \u001b[0;36mgetresponse\u001b[0;34m(self)\u001b[0m\n\u001b[1;32m   1352\u001b[0m         \u001b[0;32mtry\u001b[0m\u001b[0;34m:\u001b[0m\u001b[0;34m\u001b[0m\u001b[0;34m\u001b[0m\u001b[0m\n\u001b[1;32m   1353\u001b[0m             \u001b[0;32mtry\u001b[0m\u001b[0;34m:\u001b[0m\u001b[0;34m\u001b[0m\u001b[0;34m\u001b[0m\u001b[0m\n\u001b[0;32m-> 1354\u001b[0;31m                 \u001b[0mresponse\u001b[0m\u001b[0;34m.\u001b[0m\u001b[0mbegin\u001b[0m\u001b[0;34m(\u001b[0m\u001b[0;34m)\u001b[0m\u001b[0;34m\u001b[0m\u001b[0;34m\u001b[0m\u001b[0m\n\u001b[0m\u001b[1;32m   1355\u001b[0m             \u001b[0;32mexcept\u001b[0m \u001b[0mConnectionError\u001b[0m\u001b[0;34m:\u001b[0m\u001b[0;34m\u001b[0m\u001b[0;34m\u001b[0m\u001b[0m\n\u001b[1;32m   1356\u001b[0m                 \u001b[0mself\u001b[0m\u001b[0;34m.\u001b[0m\u001b[0mclose\u001b[0m\u001b[0;34m(\u001b[0m\u001b[0;34m)\u001b[0m\u001b[0;34m\u001b[0m\u001b[0;34m\u001b[0m\u001b[0m\n",
      "\u001b[0;32m~/anaconda3/envs/python3/lib/python3.6/http/client.py\u001b[0m in \u001b[0;36mbegin\u001b[0;34m(self)\u001b[0m\n\u001b[1;32m    305\u001b[0m         \u001b[0;31m# read until we get a non-100 response\u001b[0m\u001b[0;34m\u001b[0m\u001b[0;34m\u001b[0m\u001b[0;34m\u001b[0m\u001b[0m\n\u001b[1;32m    306\u001b[0m         \u001b[0;32mwhile\u001b[0m \u001b[0;32mTrue\u001b[0m\u001b[0;34m:\u001b[0m\u001b[0;34m\u001b[0m\u001b[0;34m\u001b[0m\u001b[0m\n\u001b[0;32m--> 307\u001b[0;31m             \u001b[0mversion\u001b[0m\u001b[0;34m,\u001b[0m \u001b[0mstatus\u001b[0m\u001b[0;34m,\u001b[0m \u001b[0mreason\u001b[0m \u001b[0;34m=\u001b[0m \u001b[0mself\u001b[0m\u001b[0;34m.\u001b[0m\u001b[0m_read_status\u001b[0m\u001b[0;34m(\u001b[0m\u001b[0;34m)\u001b[0m\u001b[0;34m\u001b[0m\u001b[0;34m\u001b[0m\u001b[0m\n\u001b[0m\u001b[1;32m    308\u001b[0m             \u001b[0;32mif\u001b[0m \u001b[0mstatus\u001b[0m \u001b[0;34m!=\u001b[0m \u001b[0mCONTINUE\u001b[0m\u001b[0;34m:\u001b[0m\u001b[0;34m\u001b[0m\u001b[0;34m\u001b[0m\u001b[0m\n\u001b[1;32m    309\u001b[0m                 \u001b[0;32mbreak\u001b[0m\u001b[0;34m\u001b[0m\u001b[0;34m\u001b[0m\u001b[0m\n",
      "\u001b[0;32m~/anaconda3/envs/python3/lib/python3.6/http/client.py\u001b[0m in \u001b[0;36m_read_status\u001b[0;34m(self)\u001b[0m\n\u001b[1;32m    266\u001b[0m \u001b[0;34m\u001b[0m\u001b[0m\n\u001b[1;32m    267\u001b[0m     \u001b[0;32mdef\u001b[0m \u001b[0m_read_status\u001b[0m\u001b[0;34m(\u001b[0m\u001b[0mself\u001b[0m\u001b[0;34m)\u001b[0m\u001b[0;34m:\u001b[0m\u001b[0;34m\u001b[0m\u001b[0;34m\u001b[0m\u001b[0m\n\u001b[0;32m--> 268\u001b[0;31m         \u001b[0mline\u001b[0m \u001b[0;34m=\u001b[0m \u001b[0mstr\u001b[0m\u001b[0;34m(\u001b[0m\u001b[0mself\u001b[0m\u001b[0;34m.\u001b[0m\u001b[0mfp\u001b[0m\u001b[0;34m.\u001b[0m\u001b[0mreadline\u001b[0m\u001b[0;34m(\u001b[0m\u001b[0m_MAXLINE\u001b[0m \u001b[0;34m+\u001b[0m \u001b[0;36m1\u001b[0m\u001b[0;34m)\u001b[0m\u001b[0;34m,\u001b[0m \u001b[0;34m\"iso-8859-1\"\u001b[0m\u001b[0;34m)\u001b[0m\u001b[0;34m\u001b[0m\u001b[0;34m\u001b[0m\u001b[0m\n\u001b[0m\u001b[1;32m    269\u001b[0m         \u001b[0;32mif\u001b[0m \u001b[0mlen\u001b[0m\u001b[0;34m(\u001b[0m\u001b[0mline\u001b[0m\u001b[0;34m)\u001b[0m \u001b[0;34m>\u001b[0m \u001b[0m_MAXLINE\u001b[0m\u001b[0;34m:\u001b[0m\u001b[0;34m\u001b[0m\u001b[0;34m\u001b[0m\u001b[0m\n\u001b[1;32m    270\u001b[0m             \u001b[0;32mraise\u001b[0m \u001b[0mLineTooLong\u001b[0m\u001b[0;34m(\u001b[0m\u001b[0;34m\"status line\"\u001b[0m\u001b[0;34m)\u001b[0m\u001b[0;34m\u001b[0m\u001b[0;34m\u001b[0m\u001b[0m\n",
      "\u001b[0;32m~/anaconda3/envs/python3/lib/python3.6/socket.py\u001b[0m in \u001b[0;36mreadinto\u001b[0;34m(self, b)\u001b[0m\n\u001b[1;32m    584\u001b[0m         \u001b[0;32mwhile\u001b[0m \u001b[0;32mTrue\u001b[0m\u001b[0;34m:\u001b[0m\u001b[0;34m\u001b[0m\u001b[0;34m\u001b[0m\u001b[0m\n\u001b[1;32m    585\u001b[0m             \u001b[0;32mtry\u001b[0m\u001b[0;34m:\u001b[0m\u001b[0;34m\u001b[0m\u001b[0;34m\u001b[0m\u001b[0m\n\u001b[0;32m--> 586\u001b[0;31m                 \u001b[0;32mreturn\u001b[0m \u001b[0mself\u001b[0m\u001b[0;34m.\u001b[0m\u001b[0m_sock\u001b[0m\u001b[0;34m.\u001b[0m\u001b[0mrecv_into\u001b[0m\u001b[0;34m(\u001b[0m\u001b[0mb\u001b[0m\u001b[0;34m)\u001b[0m\u001b[0;34m\u001b[0m\u001b[0;34m\u001b[0m\u001b[0m\n\u001b[0m\u001b[1;32m    587\u001b[0m             \u001b[0;32mexcept\u001b[0m \u001b[0mtimeout\u001b[0m\u001b[0;34m:\u001b[0m\u001b[0;34m\u001b[0m\u001b[0;34m\u001b[0m\u001b[0m\n\u001b[1;32m    588\u001b[0m                 \u001b[0mself\u001b[0m\u001b[0;34m.\u001b[0m\u001b[0m_timeout_occurred\u001b[0m \u001b[0;34m=\u001b[0m \u001b[0;32mTrue\u001b[0m\u001b[0;34m\u001b[0m\u001b[0;34m\u001b[0m\u001b[0m\n",
      "\u001b[0;32m~/anaconda3/envs/python3/lib/python3.6/ssl.py\u001b[0m in \u001b[0;36mrecv_into\u001b[0;34m(self, buffer, nbytes, flags)\u001b[0m\n\u001b[1;32m   1010\u001b[0m                   \u001b[0;34m\"non-zero flags not allowed in calls to recv_into() on %s\"\u001b[0m \u001b[0;34m%\u001b[0m\u001b[0;34m\u001b[0m\u001b[0;34m\u001b[0m\u001b[0m\n\u001b[1;32m   1011\u001b[0m                   self.__class__)\n\u001b[0;32m-> 1012\u001b[0;31m             \u001b[0;32mreturn\u001b[0m \u001b[0mself\u001b[0m\u001b[0;34m.\u001b[0m\u001b[0mread\u001b[0m\u001b[0;34m(\u001b[0m\u001b[0mnbytes\u001b[0m\u001b[0;34m,\u001b[0m \u001b[0mbuffer\u001b[0m\u001b[0;34m)\u001b[0m\u001b[0;34m\u001b[0m\u001b[0;34m\u001b[0m\u001b[0m\n\u001b[0m\u001b[1;32m   1013\u001b[0m         \u001b[0;32melse\u001b[0m\u001b[0;34m:\u001b[0m\u001b[0;34m\u001b[0m\u001b[0;34m\u001b[0m\u001b[0m\n\u001b[1;32m   1014\u001b[0m             \u001b[0;32mreturn\u001b[0m \u001b[0msocket\u001b[0m\u001b[0;34m.\u001b[0m\u001b[0mrecv_into\u001b[0m\u001b[0;34m(\u001b[0m\u001b[0mself\u001b[0m\u001b[0;34m,\u001b[0m \u001b[0mbuffer\u001b[0m\u001b[0;34m,\u001b[0m \u001b[0mnbytes\u001b[0m\u001b[0;34m,\u001b[0m \u001b[0mflags\u001b[0m\u001b[0;34m)\u001b[0m\u001b[0;34m\u001b[0m\u001b[0;34m\u001b[0m\u001b[0m\n",
      "\u001b[0;32m~/anaconda3/envs/python3/lib/python3.6/ssl.py\u001b[0m in \u001b[0;36mread\u001b[0;34m(self, len, buffer)\u001b[0m\n\u001b[1;32m    872\u001b[0m             \u001b[0;32mraise\u001b[0m \u001b[0mValueError\u001b[0m\u001b[0;34m(\u001b[0m\u001b[0;34m\"Read on closed or unwrapped SSL socket.\"\u001b[0m\u001b[0;34m)\u001b[0m\u001b[0;34m\u001b[0m\u001b[0;34m\u001b[0m\u001b[0m\n\u001b[1;32m    873\u001b[0m         \u001b[0;32mtry\u001b[0m\u001b[0;34m:\u001b[0m\u001b[0;34m\u001b[0m\u001b[0;34m\u001b[0m\u001b[0m\n\u001b[0;32m--> 874\u001b[0;31m             \u001b[0;32mreturn\u001b[0m \u001b[0mself\u001b[0m\u001b[0;34m.\u001b[0m\u001b[0m_sslobj\u001b[0m\u001b[0;34m.\u001b[0m\u001b[0mread\u001b[0m\u001b[0;34m(\u001b[0m\u001b[0mlen\u001b[0m\u001b[0;34m,\u001b[0m \u001b[0mbuffer\u001b[0m\u001b[0;34m)\u001b[0m\u001b[0;34m\u001b[0m\u001b[0;34m\u001b[0m\u001b[0m\n\u001b[0m\u001b[1;32m    875\u001b[0m         \u001b[0;32mexcept\u001b[0m \u001b[0mSSLError\u001b[0m \u001b[0;32mas\u001b[0m \u001b[0mx\u001b[0m\u001b[0;34m:\u001b[0m\u001b[0;34m\u001b[0m\u001b[0;34m\u001b[0m\u001b[0m\n\u001b[1;32m    876\u001b[0m             \u001b[0;32mif\u001b[0m \u001b[0mx\u001b[0m\u001b[0;34m.\u001b[0m\u001b[0margs\u001b[0m\u001b[0;34m[\u001b[0m\u001b[0;36m0\u001b[0m\u001b[0;34m]\u001b[0m \u001b[0;34m==\u001b[0m \u001b[0mSSL_ERROR_EOF\u001b[0m \u001b[0;32mand\u001b[0m \u001b[0mself\u001b[0m\u001b[0;34m.\u001b[0m\u001b[0msuppress_ragged_eofs\u001b[0m\u001b[0;34m:\u001b[0m\u001b[0;34m\u001b[0m\u001b[0;34m\u001b[0m\u001b[0m\n",
      "\u001b[0;32m~/anaconda3/envs/python3/lib/python3.6/ssl.py\u001b[0m in \u001b[0;36mread\u001b[0;34m(self, len, buffer)\u001b[0m\n\u001b[1;32m    629\u001b[0m         \"\"\"\n\u001b[1;32m    630\u001b[0m         \u001b[0;32mif\u001b[0m \u001b[0mbuffer\u001b[0m \u001b[0;32mis\u001b[0m \u001b[0;32mnot\u001b[0m \u001b[0;32mNone\u001b[0m\u001b[0;34m:\u001b[0m\u001b[0;34m\u001b[0m\u001b[0;34m\u001b[0m\u001b[0m\n\u001b[0;32m--> 631\u001b[0;31m             \u001b[0mv\u001b[0m \u001b[0;34m=\u001b[0m \u001b[0mself\u001b[0m\u001b[0;34m.\u001b[0m\u001b[0m_sslobj\u001b[0m\u001b[0;34m.\u001b[0m\u001b[0mread\u001b[0m\u001b[0;34m(\u001b[0m\u001b[0mlen\u001b[0m\u001b[0;34m,\u001b[0m \u001b[0mbuffer\u001b[0m\u001b[0;34m)\u001b[0m\u001b[0;34m\u001b[0m\u001b[0;34m\u001b[0m\u001b[0m\n\u001b[0m\u001b[1;32m    632\u001b[0m         \u001b[0;32melse\u001b[0m\u001b[0;34m:\u001b[0m\u001b[0;34m\u001b[0m\u001b[0;34m\u001b[0m\u001b[0m\n\u001b[1;32m    633\u001b[0m             \u001b[0mv\u001b[0m \u001b[0;34m=\u001b[0m \u001b[0mself\u001b[0m\u001b[0;34m.\u001b[0m\u001b[0m_sslobj\u001b[0m\u001b[0;34m.\u001b[0m\u001b[0mread\u001b[0m\u001b[0;34m(\u001b[0m\u001b[0mlen\u001b[0m\u001b[0;34m)\u001b[0m\u001b[0;34m\u001b[0m\u001b[0;34m\u001b[0m\u001b[0m\n",
      "\u001b[0;31mKeyboardInterrupt\u001b[0m: "
     ]
    }
   ],
   "source": [
    "since_id_old = 0\n",
    "while(since_id_new != since_id_old):\n",
    "    since_id_old = since_id_new\n",
    "    search_results = rest_api.search.tweets( count=count,q=q,\n",
    "                        geocode=geocode, max_id= since_id_new)\n",
    "    statuses = search_results[\"statuses\"]\n",
    "    since_id_new = statuses[-1]['id']\n",
    "    for statuse in statuses:\n",
    "        try:\n",
    "            tweet_collection.insert_one(statuse)\n",
    "            pprint(statuse['created_at']) # print the date of the collected tweets\n",
    "        except:\n",
    "            pass"
   ]
  },
  {
   "cell_type": "markdown",
   "metadata": {},
   "source": [
    "## View the Collected Tweets"
   ]
  },
  {
   "cell_type": "markdown",
   "metadata": {},
   "source": [
    "Print the number of tweets and unique twitter users"
   ]
  },
  {
   "cell_type": "code",
   "execution_count": 15,
   "metadata": {},
   "outputs": [
    {
     "name": "stdout",
     "output_type": "stream",
     "text": [
      "7783\n",
      "6083\n"
     ]
    }
   ],
   "source": [
    "print(tweet_collection.estimated_document_count())# number of tweets collected\n",
    "\n",
    "user_cursor = tweet_collection.distinct(\"user.id\")\n",
    "print (len(user_cursor)) # number of unique Twitter users "
   ]
  },
  {
   "cell_type": "markdown",
   "metadata": {},
   "source": [
    "Create a text index and print the Tweets containing specific keywords. "
   ]
  },
  {
   "cell_type": "code",
   "execution_count": 16,
   "metadata": {
    "scrolled": false
   },
   "outputs": [
    {
     "data": {
      "text/plain": [
       "'text_index'"
      ]
     },
     "execution_count": 16,
     "metadata": {},
     "output_type": "execute_result"
    }
   ],
   "source": [
    "tweet_collection.create_index([(\"text\", pymongo.TEXT)], name='text_index', default_language='english') # create a text index\n"
   ]
  },
  {
   "cell_type": "markdown",
   "metadata": {},
   "source": [
    "Create a cursor to query tweets with the created index"
   ]
  },
  {
   "cell_type": "code",
   "execution_count": 17,
   "metadata": {},
   "outputs": [],
   "source": [
    "tweet_cursor = tweet_collection.find({\"$text\": {\"$search\": \"covid19\"}}) # return tweets contain vote"
   ]
  },
  {
   "cell_type": "markdown",
   "metadata": {},
   "source": [
    "Use pprint to display tweets"
   ]
  },
  {
   "cell_type": "code",
   "execution_count": 18,
   "metadata": {
    "scrolled": false
   },
   "outputs": [
    {
     "name": "stdout",
     "output_type": "stream",
     "text": [
      "----\n",
      "name: WR\n",
      "text: #FreeSpeech #FreedomOfSpeech @SpeechUnion #YeadonUnlocked #IamYeadon #COVID19 #COVID19\n",
      "----\n",
      "name: STEVE-O NONEYA\n",
      "text: How do you feel about this #COVID19   #coronavirus #COVIDー19 #QuestionOfTheDay #QuaratineLife #QuarantineLife\n",
      "----\n",
      "name: It is time\n",
      "text: Look what you did @realdonaldTrump number dead under your watch 1048 #COVID19  #COVID19\n",
      "----\n",
      "name: It is time\n",
      "text: Look what you did @realdonaldTrump number dead under your watch 1049 #COVID19  #COVID19\n",
      "----\n",
      "name: It is time\n",
      "text: Look what you did @realdonaldTrump number dead under your watch 1050 #COVID19  #COVID19\n",
      "----\n",
      "name: It is time\n",
      "text: Look what you did @realdonaldTrump number dead under your watch 1053 #COVID19  #COVID19\n",
      "----\n",
      "name: It is time\n",
      "text: Look what you did @realdonaldTrump number dead under your watch 1055 #COVID19  #COVID19\n",
      "----\n",
      "name: It is time\n",
      "text: Look what you did @realdonaldTrump number dead under your watch 1056 #COVID19  #COVID19\n",
      "----\n",
      "name: WR\n",
      "text: #ScienceMatters #YeadonUnlocked #IamYeadon #COVID19 #COVID19 #coronavirus https://t.co/RWh2NPQvwA\n",
      "----\n",
      "name: Darth Maul's Anger\n",
      "text: issue because it only takes one person to get many people sick. \n",
      "\n",
      "#covid #covid19 #COVID #COVID19\n"
     ]
    }
   ],
   "source": [
    "\n",
    "for document in tweet_cursor[0:10]: # display the first 10 tweets from the query\n",
    "    try:\n",
    "        print ('----')\n",
    "#         pprint (document) # use pprint to print the entire tweet document\n",
    "   \n",
    "        print ('name:', document[\"user\"][\"name\"]) # user name\n",
    "        print ('text:', document[\"text\"])         # tweets\n",
    "    except:\n",
    "        print (\"***error in encoding\")\n",
    "        pass"
   ]
  },
  {
   "cell_type": "code",
   "execution_count": 21,
   "metadata": {},
   "outputs": [],
   "source": [
    "tweet_cursor = tweet_collection.find({\"$text\": {\"$search\": \"covid19\"}}) # return tweets contain vote"
   ]
  },
  {
   "cell_type": "markdown",
   "metadata": {},
   "source": [
    "Use pandas to display tweets"
   ]
  },
  {
   "cell_type": "code",
   "execution_count": 22,
   "metadata": {},
   "outputs": [
    {
     "data": {
      "text/html": [
       "<div>\n",
       "<style scoped>\n",
       "    .dataframe tbody tr th:only-of-type {\n",
       "        vertical-align: middle;\n",
       "    }\n",
       "\n",
       "    .dataframe tbody tr th {\n",
       "        vertical-align: top;\n",
       "    }\n",
       "\n",
       "    .dataframe thead th {\n",
       "        text-align: right;\n",
       "    }\n",
       "</style>\n",
       "<table border=\"1\" class=\"dataframe\">\n",
       "  <thead>\n",
       "    <tr style=\"text-align: right;\">\n",
       "      <th></th>\n",
       "      <th>_id</th>\n",
       "      <th>created_at</th>\n",
       "      <th>id</th>\n",
       "      <th>id_str</th>\n",
       "      <th>text</th>\n",
       "      <th>truncated</th>\n",
       "      <th>entities</th>\n",
       "      <th>metadata</th>\n",
       "      <th>source</th>\n",
       "      <th>in_reply_to_status_id</th>\n",
       "      <th>...</th>\n",
       "      <th>favorite_count</th>\n",
       "      <th>favorited</th>\n",
       "      <th>retweeted</th>\n",
       "      <th>lang</th>\n",
       "      <th>quoted_status_id</th>\n",
       "      <th>quoted_status_id_str</th>\n",
       "      <th>quoted_status</th>\n",
       "      <th>possibly_sensitive</th>\n",
       "      <th>retweeted_status</th>\n",
       "      <th>extended_entities</th>\n",
       "    </tr>\n",
       "  </thead>\n",
       "  <tbody>\n",
       "    <tr>\n",
       "      <th>0</th>\n",
       "      <td>5fbadaae449200af27803bf1</td>\n",
       "      <td>Sat Nov 21 20:10:35 +0000 2020</td>\n",
       "      <td>1330242225205338114</td>\n",
       "      <td>1330242225205338114</td>\n",
       "      <td>#FreeSpeech #FreedomOfSpeech @SpeechUnion #Yea...</td>\n",
       "      <td>False</td>\n",
       "      <td>{'hashtags': [{'text': 'FreeSpeech', 'indices'...</td>\n",
       "      <td>{'iso_language_code': 'und', 'result_type': 'r...</td>\n",
       "      <td>&lt;a href=\"https://mobile.twitter.com\" rel=\"nofo...</td>\n",
       "      <td>1.330242e+18</td>\n",
       "      <td>...</td>\n",
       "      <td>0</td>\n",
       "      <td>False</td>\n",
       "      <td>False</td>\n",
       "      <td>und</td>\n",
       "      <td>NaN</td>\n",
       "      <td>NaN</td>\n",
       "      <td>NaN</td>\n",
       "      <td>NaN</td>\n",
       "      <td>NaN</td>\n",
       "      <td>NaN</td>\n",
       "    </tr>\n",
       "    <tr>\n",
       "      <th>1</th>\n",
       "      <td>5fbada9d449200af27803513</td>\n",
       "      <td>Sun Nov 22 05:11:39 +0000 2020</td>\n",
       "      <td>1330378387823661058</td>\n",
       "      <td>1330378387823661058</td>\n",
       "      <td>How do you feel about this #COVID19   #coronav...</td>\n",
       "      <td>False</td>\n",
       "      <td>{'hashtags': [{'text': 'COVID19', 'indices': [...</td>\n",
       "      <td>{'iso_language_code': 'en', 'result_type': 're...</td>\n",
       "      <td>&lt;a href=\"http://twitter.com/download/iphone\" r...</td>\n",
       "      <td>NaN</td>\n",
       "      <td>...</td>\n",
       "      <td>0</td>\n",
       "      <td>False</td>\n",
       "      <td>False</td>\n",
       "      <td>en</td>\n",
       "      <td>NaN</td>\n",
       "      <td>NaN</td>\n",
       "      <td>NaN</td>\n",
       "      <td>NaN</td>\n",
       "      <td>NaN</td>\n",
       "      <td>NaN</td>\n",
       "    </tr>\n",
       "    <tr>\n",
       "      <th>2</th>\n",
       "      <td>5fbadab6449200af27803ed2</td>\n",
       "      <td>Sat Nov 21 17:54:39 +0000 2020</td>\n",
       "      <td>1330208013261606912</td>\n",
       "      <td>1330208013261606912</td>\n",
       "      <td>Look what you did @realdonaldTrump number dead...</td>\n",
       "      <td>False</td>\n",
       "      <td>{'hashtags': [{'text': 'COVID19', 'indices': [...</td>\n",
       "      <td>{'iso_language_code': 'en', 'result_type': 're...</td>\n",
       "      <td>&lt;a href=\"https://mobile.twitter.com\" rel=\"nofo...</td>\n",
       "      <td>NaN</td>\n",
       "      <td>...</td>\n",
       "      <td>2</td>\n",
       "      <td>False</td>\n",
       "      <td>False</td>\n",
       "      <td>en</td>\n",
       "      <td>NaN</td>\n",
       "      <td>NaN</td>\n",
       "      <td>NaN</td>\n",
       "      <td>NaN</td>\n",
       "      <td>NaN</td>\n",
       "      <td>NaN</td>\n",
       "    </tr>\n",
       "    <tr>\n",
       "      <th>3</th>\n",
       "      <td>5fbadab6449200af27803ece</td>\n",
       "      <td>Sat Nov 21 17:55:04 +0000 2020</td>\n",
       "      <td>1330208119516000257</td>\n",
       "      <td>1330208119516000257</td>\n",
       "      <td>Look what you did @realdonaldTrump number dead...</td>\n",
       "      <td>False</td>\n",
       "      <td>{'hashtags': [{'text': 'COVID19', 'indices': [...</td>\n",
       "      <td>{'iso_language_code': 'en', 'result_type': 're...</td>\n",
       "      <td>&lt;a href=\"https://mobile.twitter.com\" rel=\"nofo...</td>\n",
       "      <td>NaN</td>\n",
       "      <td>...</td>\n",
       "      <td>2</td>\n",
       "      <td>False</td>\n",
       "      <td>False</td>\n",
       "      <td>en</td>\n",
       "      <td>NaN</td>\n",
       "      <td>NaN</td>\n",
       "      <td>NaN</td>\n",
       "      <td>NaN</td>\n",
       "      <td>NaN</td>\n",
       "      <td>NaN</td>\n",
       "    </tr>\n",
       "    <tr>\n",
       "      <th>4</th>\n",
       "      <td>5fbadab6449200af27803ecb</td>\n",
       "      <td>Sat Nov 21 17:55:18 +0000 2020</td>\n",
       "      <td>1330208180492701698</td>\n",
       "      <td>1330208180492701698</td>\n",
       "      <td>Look what you did @realdonaldTrump number dead...</td>\n",
       "      <td>False</td>\n",
       "      <td>{'hashtags': [{'text': 'COVID19', 'indices': [...</td>\n",
       "      <td>{'iso_language_code': 'en', 'result_type': 're...</td>\n",
       "      <td>&lt;a href=\"https://mobile.twitter.com\" rel=\"nofo...</td>\n",
       "      <td>NaN</td>\n",
       "      <td>...</td>\n",
       "      <td>1</td>\n",
       "      <td>False</td>\n",
       "      <td>False</td>\n",
       "      <td>en</td>\n",
       "      <td>NaN</td>\n",
       "      <td>NaN</td>\n",
       "      <td>NaN</td>\n",
       "      <td>NaN</td>\n",
       "      <td>NaN</td>\n",
       "      <td>NaN</td>\n",
       "    </tr>\n",
       "    <tr>\n",
       "      <th>5</th>\n",
       "      <td>5fbadab6449200af27803ec9</td>\n",
       "      <td>Sat Nov 21 17:55:29 +0000 2020</td>\n",
       "      <td>1330208223572471811</td>\n",
       "      <td>1330208223572471811</td>\n",
       "      <td>Look what you did @realdonaldTrump number dead...</td>\n",
       "      <td>False</td>\n",
       "      <td>{'hashtags': [{'text': 'COVID19', 'indices': [...</td>\n",
       "      <td>{'iso_language_code': 'en', 'result_type': 're...</td>\n",
       "      <td>&lt;a href=\"https://mobile.twitter.com\" rel=\"nofo...</td>\n",
       "      <td>NaN</td>\n",
       "      <td>...</td>\n",
       "      <td>0</td>\n",
       "      <td>False</td>\n",
       "      <td>False</td>\n",
       "      <td>en</td>\n",
       "      <td>NaN</td>\n",
       "      <td>NaN</td>\n",
       "      <td>NaN</td>\n",
       "      <td>NaN</td>\n",
       "      <td>NaN</td>\n",
       "      <td>NaN</td>\n",
       "    </tr>\n",
       "    <tr>\n",
       "      <th>6</th>\n",
       "      <td>5fbadab6449200af27803ec7</td>\n",
       "      <td>Sat Nov 21 17:55:37 +0000 2020</td>\n",
       "      <td>1330208256376119298</td>\n",
       "      <td>1330208256376119298</td>\n",
       "      <td>Look what you did @realdonaldTrump number dead...</td>\n",
       "      <td>False</td>\n",
       "      <td>{'hashtags': [{'text': 'COVID19', 'indices': [...</td>\n",
       "      <td>{'iso_language_code': 'en', 'result_type': 're...</td>\n",
       "      <td>&lt;a href=\"https://mobile.twitter.com\" rel=\"nofo...</td>\n",
       "      <td>NaN</td>\n",
       "      <td>...</td>\n",
       "      <td>1</td>\n",
       "      <td>False</td>\n",
       "      <td>False</td>\n",
       "      <td>en</td>\n",
       "      <td>NaN</td>\n",
       "      <td>NaN</td>\n",
       "      <td>NaN</td>\n",
       "      <td>NaN</td>\n",
       "      <td>NaN</td>\n",
       "      <td>NaN</td>\n",
       "    </tr>\n",
       "    <tr>\n",
       "      <th>7</th>\n",
       "      <td>5fbadab6449200af27803ec4</td>\n",
       "      <td>Sat Nov 21 17:55:48 +0000 2020</td>\n",
       "      <td>1330208302421172224</td>\n",
       "      <td>1330208302421172224</td>\n",
       "      <td>Look what you did @realdonaldTrump number dead...</td>\n",
       "      <td>False</td>\n",
       "      <td>{'hashtags': [{'text': 'COVID19', 'indices': [...</td>\n",
       "      <td>{'iso_language_code': 'en', 'result_type': 're...</td>\n",
       "      <td>&lt;a href=\"https://mobile.twitter.com\" rel=\"nofo...</td>\n",
       "      <td>NaN</td>\n",
       "      <td>...</td>\n",
       "      <td>1</td>\n",
       "      <td>False</td>\n",
       "      <td>False</td>\n",
       "      <td>en</td>\n",
       "      <td>NaN</td>\n",
       "      <td>NaN</td>\n",
       "      <td>NaN</td>\n",
       "      <td>NaN</td>\n",
       "      <td>NaN</td>\n",
       "      <td>NaN</td>\n",
       "    </tr>\n",
       "    <tr>\n",
       "      <th>8</th>\n",
       "      <td>5fbadb600c74daf15189eb85</td>\n",
       "      <td>Sat Nov 21 12:34:49 +0000 2020</td>\n",
       "      <td>1330127528133005317</td>\n",
       "      <td>1330127528133005317</td>\n",
       "      <td>#ScienceMatters #YeadonUnlocked #IamYeadon #CO...</td>\n",
       "      <td>False</td>\n",
       "      <td>{'hashtags': [{'text': 'ScienceMatters', 'indi...</td>\n",
       "      <td>{'iso_language_code': 'und', 'result_type': 'r...</td>\n",
       "      <td>&lt;a href=\"https://mobile.twitter.com\" rel=\"nofo...</td>\n",
       "      <td>NaN</td>\n",
       "      <td>...</td>\n",
       "      <td>0</td>\n",
       "      <td>False</td>\n",
       "      <td>False</td>\n",
       "      <td>und</td>\n",
       "      <td>1.330127e+18</td>\n",
       "      <td>1330127163639672834</td>\n",
       "      <td>{'created_at': 'Sat Nov 21 12:33:23 +0000 2020...</td>\n",
       "      <td>False</td>\n",
       "      <td>NaN</td>\n",
       "      <td>NaN</td>\n",
       "    </tr>\n",
       "    <tr>\n",
       "      <th>9</th>\n",
       "      <td>5fbadab4449200af27803def</td>\n",
       "      <td>Sat Nov 21 18:26:46 +0000 2020</td>\n",
       "      <td>1330216095584808960</td>\n",
       "      <td>1330216095584808960</td>\n",
       "      <td>issue because it only takes one person to get ...</td>\n",
       "      <td>False</td>\n",
       "      <td>{'hashtags': [{'text': 'covid', 'indices': [66...</td>\n",
       "      <td>{'iso_language_code': 'en', 'result_type': 're...</td>\n",
       "      <td>&lt;a href=\"http://twitter.com/download/android\" ...</td>\n",
       "      <td>1.330216e+18</td>\n",
       "      <td>...</td>\n",
       "      <td>0</td>\n",
       "      <td>False</td>\n",
       "      <td>False</td>\n",
       "      <td>en</td>\n",
       "      <td>NaN</td>\n",
       "      <td>NaN</td>\n",
       "      <td>NaN</td>\n",
       "      <td>NaN</td>\n",
       "      <td>NaN</td>\n",
       "      <td>NaN</td>\n",
       "    </tr>\n",
       "  </tbody>\n",
       "</table>\n",
       "<p>10 rows × 31 columns</p>\n",
       "</div>"
      ],
      "text/plain": [
       "                        _id                      created_at  \\\n",
       "0  5fbadaae449200af27803bf1  Sat Nov 21 20:10:35 +0000 2020   \n",
       "1  5fbada9d449200af27803513  Sun Nov 22 05:11:39 +0000 2020   \n",
       "2  5fbadab6449200af27803ed2  Sat Nov 21 17:54:39 +0000 2020   \n",
       "3  5fbadab6449200af27803ece  Sat Nov 21 17:55:04 +0000 2020   \n",
       "4  5fbadab6449200af27803ecb  Sat Nov 21 17:55:18 +0000 2020   \n",
       "5  5fbadab6449200af27803ec9  Sat Nov 21 17:55:29 +0000 2020   \n",
       "6  5fbadab6449200af27803ec7  Sat Nov 21 17:55:37 +0000 2020   \n",
       "7  5fbadab6449200af27803ec4  Sat Nov 21 17:55:48 +0000 2020   \n",
       "8  5fbadb600c74daf15189eb85  Sat Nov 21 12:34:49 +0000 2020   \n",
       "9  5fbadab4449200af27803def  Sat Nov 21 18:26:46 +0000 2020   \n",
       "\n",
       "                    id               id_str  \\\n",
       "0  1330242225205338114  1330242225205338114   \n",
       "1  1330378387823661058  1330378387823661058   \n",
       "2  1330208013261606912  1330208013261606912   \n",
       "3  1330208119516000257  1330208119516000257   \n",
       "4  1330208180492701698  1330208180492701698   \n",
       "5  1330208223572471811  1330208223572471811   \n",
       "6  1330208256376119298  1330208256376119298   \n",
       "7  1330208302421172224  1330208302421172224   \n",
       "8  1330127528133005317  1330127528133005317   \n",
       "9  1330216095584808960  1330216095584808960   \n",
       "\n",
       "                                                text  truncated  \\\n",
       "0  #FreeSpeech #FreedomOfSpeech @SpeechUnion #Yea...      False   \n",
       "1  How do you feel about this #COVID19   #coronav...      False   \n",
       "2  Look what you did @realdonaldTrump number dead...      False   \n",
       "3  Look what you did @realdonaldTrump number dead...      False   \n",
       "4  Look what you did @realdonaldTrump number dead...      False   \n",
       "5  Look what you did @realdonaldTrump number dead...      False   \n",
       "6  Look what you did @realdonaldTrump number dead...      False   \n",
       "7  Look what you did @realdonaldTrump number dead...      False   \n",
       "8  #ScienceMatters #YeadonUnlocked #IamYeadon #CO...      False   \n",
       "9  issue because it only takes one person to get ...      False   \n",
       "\n",
       "                                            entities  \\\n",
       "0  {'hashtags': [{'text': 'FreeSpeech', 'indices'...   \n",
       "1  {'hashtags': [{'text': 'COVID19', 'indices': [...   \n",
       "2  {'hashtags': [{'text': 'COVID19', 'indices': [...   \n",
       "3  {'hashtags': [{'text': 'COVID19', 'indices': [...   \n",
       "4  {'hashtags': [{'text': 'COVID19', 'indices': [...   \n",
       "5  {'hashtags': [{'text': 'COVID19', 'indices': [...   \n",
       "6  {'hashtags': [{'text': 'COVID19', 'indices': [...   \n",
       "7  {'hashtags': [{'text': 'COVID19', 'indices': [...   \n",
       "8  {'hashtags': [{'text': 'ScienceMatters', 'indi...   \n",
       "9  {'hashtags': [{'text': 'covid', 'indices': [66...   \n",
       "\n",
       "                                            metadata  \\\n",
       "0  {'iso_language_code': 'und', 'result_type': 'r...   \n",
       "1  {'iso_language_code': 'en', 'result_type': 're...   \n",
       "2  {'iso_language_code': 'en', 'result_type': 're...   \n",
       "3  {'iso_language_code': 'en', 'result_type': 're...   \n",
       "4  {'iso_language_code': 'en', 'result_type': 're...   \n",
       "5  {'iso_language_code': 'en', 'result_type': 're...   \n",
       "6  {'iso_language_code': 'en', 'result_type': 're...   \n",
       "7  {'iso_language_code': 'en', 'result_type': 're...   \n",
       "8  {'iso_language_code': 'und', 'result_type': 'r...   \n",
       "9  {'iso_language_code': 'en', 'result_type': 're...   \n",
       "\n",
       "                                              source  in_reply_to_status_id  \\\n",
       "0  <a href=\"https://mobile.twitter.com\" rel=\"nofo...           1.330242e+18   \n",
       "1  <a href=\"http://twitter.com/download/iphone\" r...                    NaN   \n",
       "2  <a href=\"https://mobile.twitter.com\" rel=\"nofo...                    NaN   \n",
       "3  <a href=\"https://mobile.twitter.com\" rel=\"nofo...                    NaN   \n",
       "4  <a href=\"https://mobile.twitter.com\" rel=\"nofo...                    NaN   \n",
       "5  <a href=\"https://mobile.twitter.com\" rel=\"nofo...                    NaN   \n",
       "6  <a href=\"https://mobile.twitter.com\" rel=\"nofo...                    NaN   \n",
       "7  <a href=\"https://mobile.twitter.com\" rel=\"nofo...                    NaN   \n",
       "8  <a href=\"https://mobile.twitter.com\" rel=\"nofo...                    NaN   \n",
       "9  <a href=\"http://twitter.com/download/android\" ...           1.330216e+18   \n",
       "\n",
       "   ... favorite_count  favorited retweeted lang quoted_status_id  \\\n",
       "0  ...              0      False     False  und              NaN   \n",
       "1  ...              0      False     False   en              NaN   \n",
       "2  ...              2      False     False   en              NaN   \n",
       "3  ...              2      False     False   en              NaN   \n",
       "4  ...              1      False     False   en              NaN   \n",
       "5  ...              0      False     False   en              NaN   \n",
       "6  ...              1      False     False   en              NaN   \n",
       "7  ...              1      False     False   en              NaN   \n",
       "8  ...              0      False     False  und     1.330127e+18   \n",
       "9  ...              0      False     False   en              NaN   \n",
       "\n",
       "  quoted_status_id_str                                      quoted_status  \\\n",
       "0                  NaN                                                NaN   \n",
       "1                  NaN                                                NaN   \n",
       "2                  NaN                                                NaN   \n",
       "3                  NaN                                                NaN   \n",
       "4                  NaN                                                NaN   \n",
       "5                  NaN                                                NaN   \n",
       "6                  NaN                                                NaN   \n",
       "7                  NaN                                                NaN   \n",
       "8  1330127163639672834  {'created_at': 'Sat Nov 21 12:33:23 +0000 2020...   \n",
       "9                  NaN                                                NaN   \n",
       "\n",
       "  possibly_sensitive retweeted_status  extended_entities  \n",
       "0                NaN              NaN                NaN  \n",
       "1                NaN              NaN                NaN  \n",
       "2                NaN              NaN                NaN  \n",
       "3                NaN              NaN                NaN  \n",
       "4                NaN              NaN                NaN  \n",
       "5                NaN              NaN                NaN  \n",
       "6                NaN              NaN                NaN  \n",
       "7                NaN              NaN                NaN  \n",
       "8              False              NaN                NaN  \n",
       "9                NaN              NaN                NaN  \n",
       "\n",
       "[10 rows x 31 columns]"
      ]
     },
     "execution_count": 22,
     "metadata": {},
     "output_type": "execute_result"
    }
   ],
   "source": [
    "tweet_df = pd.DataFrame(list(tweet_cursor ))\n",
    "tweet_df[:10] #display the first 10 tweets"
   ]
  },
  {
   "cell_type": "code",
   "execution_count": 23,
   "metadata": {},
   "outputs": [
    {
     "data": {
      "text/plain": [
       "<matplotlib.axes._subplots.AxesSubplot at 0x7f0a83fbd470>"
      ]
     },
     "execution_count": 23,
     "metadata": {},
     "output_type": "execute_result"
    },
    {
     "data": {
      "image/png": "[encoded data removed]",
      "text/plain": [
       "<Figure size 432x288 with 1 Axes>"
      ]
     },
     "metadata": {
      "needs_background": "light"
     },
     "output_type": "display_data"
    }
   ],
   "source": [
    "tweet_df[\"favorite_count\"].hist() # create a histogram show the favorite count"
   ]
  },
  {
   "cell_type": "code",
   "execution_count": null,
   "metadata": {},
   "outputs": [],
   "source": []
  }
 ],
 "metadata": {
  "kernelspec": {
   "display_name": "conda_python3",
   "language": "python",
   "name": "conda_python3"
  },
  "language_info": {
   "codemirror_mode": {
    "name": "ipython",
    "version": 3
   },
   "file_extension": ".py",
   "mimetype": "text/x-python",
   "name": "python",
   "nbconvert_exporter": "python",
   "pygments_lexer": "ipython3",
   "version": "3.6.10"
  }
 },
 "nbformat": 4,
 "nbformat_minor": 2
}
